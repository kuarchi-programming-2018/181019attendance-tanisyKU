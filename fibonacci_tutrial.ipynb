{
 "cells": [
  {
   "cell_type": "markdown",
   "metadata": {},
   "source": [
    "# フィボナッチ数の課題をゆっくりやります\n",
    "$n$番目のフィボナッチ数を$F(n)$で表す。\n",
    "この時の関数$F(n)$を`def fib(n):`に続けて実装してみてください。\n",
    "ただし$$F(0) = 0, F(1) = 1, F(n) = F(n-1) + F(n-2) (n >= 2)$$とします。\n",
    "最初は自分の頭で考えてみて，5分～15分考えてわからなければ検索・相談しましょう。\n",
    "なるべく処理が早いほうがいい。\n",
    "n=2018のときいくつか。\n"
   ]
  },
  {
   "cell_type": "markdown",
   "metadata": {},
   "source": [
    "まず，$F(10)$までを手計算で計算して見ましょう。\n",
    "次に，それをプログラミングしてみましょう。"
   ]
  },
  {
   "cell_type": "code",
   "execution_count": 6,
   "metadata": {},
   "outputs": [
    {
     "name": "stdout",
     "output_type": "stream",
     "text": [
      "55\n"
     ]
    }
   ],
   "source": [
    "a_0 = 0\n",
    "a_1 = 1\n",
    "a_2 = a_0 + a_1\n",
    "a_3 = a_1 + a_2\n",
    "a_4 = a_2 + a_3\n",
    "a_5 = a_3 + a_4\n",
    "a_6 = a_4 + a_5\n",
    "a_7 = a_5 + a_6\n",
    "a_8 = a_6 + a_7\n",
    "a_9 = a_7 + a_8\n",
    "a_10 = a_8 + a_9\n",
    "    \n",
    "\n",
    "# ここにa_10までを計算するように書く\n",
    "\n",
    "print(a_10)"
   ]
  },
  {
   "cell_type": "markdown",
   "metadata": {},
   "source": [
    "繰り返し部分をforループで書いてみましょう。"
   ]
  },
  {
   "cell_type": "code",
   "execution_count": 5,
   "metadata": {},
   "outputs": [
    {
     "name": "stdout",
     "output_type": "stream",
     "text": [
      "[0, 1, 2, 3, 4, 5, 6, 7, 8, 9]\n",
      "[2, 3, 4, 5, 6, 7, 8, 9, 10]\n"
     ]
    }
   ],
   "source": [
    "# range関数がどのような出力なのか確認\n",
    "print(list(range(10)))\n",
    "print(list(range(2, 11)))"
   ]
  },
  {
   "cell_type": "code",
   "execution_count": 17,
   "metadata": {},
   "outputs": [
    {
     "name": "stdout",
     "output_type": "stream",
     "text": [
      "2\n",
      "3\n",
      "5\n",
      "8\n",
      "13\n",
      "21\n",
      "34\n",
      "55\n"
     ]
    }
   ],
   "source": [
    "#a_0 = 0\n",
    "#a_1 = 1\n",
    "\n",
    "x = 0\n",
    "y = 1\n",
    "z = y + x\n",
    "#a_2 = z\n",
    "#print(a_2)\n",
    "\n",
    "#x = y\n",
    "#y = z\n",
    "#z = y + x\n",
    "#a_3 = z\n",
    "#print(a_3)\n",
    "\n",
    "#x = y\n",
    "#y = z\n",
    "#z = y + x\n",
    "#これを合計２から１０までの９回\n",
    "\n",
    "\n",
    "\n",
    "#このforループの中を編集してやってみましょう。\n",
    "for i in range(3, 11):\n",
    "    x = y\n",
    "    y = z\n",
    "    z = y + x\n",
    "    print(z)\n",
    "#a_10 = a_i\n",
    "#print(a_10)"
   ]
  },
  {
   "cell_type": "markdown",
   "metadata": {},
   "source": [
    "nまで計算できるように編集してみましょう。\n"
   ]
  },
  {
   "cell_type": "code",
   "execution_count": 18,
   "metadata": {},
   "outputs": [
    {
     "ename": "NameError",
     "evalue": "name 'n' is not defined",
     "output_type": "error",
     "traceback": [
      "\u001b[1;31m---------------------------------------------------------------------------\u001b[0m",
      "\u001b[1;31mNameError\u001b[0m                                 Traceback (most recent call last)",
      "\u001b[1;32m<ipython-input-18-010ee0e1f023>\u001b[0m in \u001b[0;36m<module>\u001b[1;34m()\u001b[0m\n\u001b[0;32m      3\u001b[0m \u001b[0my\u001b[0m \u001b[1;33m=\u001b[0m \u001b[1;36m1\u001b[0m\u001b[1;33m\u001b[0m\u001b[0m\n\u001b[0;32m      4\u001b[0m \u001b[0mz\u001b[0m \u001b[1;33m=\u001b[0m \u001b[0my\u001b[0m \u001b[1;33m+\u001b[0m \u001b[0mx\u001b[0m\u001b[1;33m\u001b[0m\u001b[0m\n\u001b[1;32m----> 5\u001b[1;33m \u001b[1;32mfor\u001b[0m \u001b[0mi\u001b[0m \u001b[1;32min\u001b[0m \u001b[0mrange\u001b[0m\u001b[1;33m(\u001b[0m\u001b[1;36m2\u001b[0m\u001b[1;33m,\u001b[0m \u001b[0mn\u001b[0m\u001b[1;33m+\u001b[0m\u001b[1;36m1\u001b[0m\u001b[1;33m)\u001b[0m\u001b[1;33m:\u001b[0m\u001b[1;33m\u001b[0m\u001b[0m\n\u001b[0m\u001b[0;32m      6\u001b[0m     \u001b[0mx\u001b[0m \u001b[1;33m=\u001b[0m \u001b[0my\u001b[0m\u001b[1;33m\u001b[0m\u001b[0m\n\u001b[0;32m      7\u001b[0m     \u001b[0my\u001b[0m \u001b[1;33m=\u001b[0m \u001b[0mz\u001b[0m\u001b[1;33m\u001b[0m\u001b[0m\n",
      "\u001b[1;31mNameError\u001b[0m: name 'n' is not defined"
     ]
    }
   ],
   "source": [
    "#ここにプログラムを書く\n",
    "x = 0\n",
    "y = 1\n",
    "z = y + x\n",
    "for i in range(2, n+1):\n",
    "    x = y\n",
    "    y = z\n",
    "    z = y + x\n",
    "    print(z)"
   ]
  },
  {
   "cell_type": "markdown",
   "metadata": {},
   "source": [
    "defを使って関数にしてみましょう。"
   ]
  },
  {
   "cell_type": "code",
   "execution_count": 24,
   "metadata": {},
   "outputs": [
    {
     "name": "stdout",
     "output_type": "stream",
     "text": [
      "55\n"
     ]
    }
   ],
   "source": [
    "def fib(n):\n",
    "    #ここにプログラムを書く\n",
    "    x = 0\n",
    "    y = 1\n",
    "    z = y + x\n",
    "    for i in range(3, n+1):\n",
    "        x = y\n",
    "        y = z\n",
    "        z = y + x\n",
    "    a_n = z\n",
    "    return a_n\n",
    "\n",
    "print(fib(10)) #fibの定義域はｎが２以上！"
   ]
  },
  {
   "cell_type": "markdown",
   "metadata": {},
   "source": [
    "リストを使ってやってみましょう"
   ]
  },
  {
   "cell_type": "code",
   "execution_count": 15,
   "metadata": {},
   "outputs": [
    {
     "name": "stdout",
     "output_type": "stream",
     "text": [
      "24410294683171395267259945469996127000411199333760853190535535281681195871429510314079442068798555059453792431772087225245168879580469159794544170936403149540819320510882801573596907938222922817134288725100817648047405608500267748766714030468003650259685406411646787207097050545802045736020993909154298598218721111963426993884619351338577630868510716463423585020972878819198991971234596733617320373133963970742975210614209\n"
     ]
    }
   ],
   "source": [
    "def fib_list(n):\n",
    "    result = [0, 1]\n",
    "    #ここにプログラムを書く\n",
    "    for i in range(2,n + 1):\n",
    "        result.append(result[len(result)-2]+result[len(result)-1]) #これを２からｎまで繰り返す\n",
    "    return result[len(result)-1]\n",
    "    \n",
    "print(fib_list(2018))"
   ]
  },
  {
   "cell_type": "markdown",
   "metadata": {},
   "source": [
    "$m$以下で最大のフィボナッチ数の$n$を求める関数を`argfib(m)`という名前でつくる\n",
    "m=2018のときいくつか。"
   ]
  },
  {
   "cell_type": "markdown",
   "metadata": {},
   "source": [
    "まずは先ほど作った関数を用いてwhileループを使ってやってみましょう。"
   ]
  },
  {
   "cell_type": "code",
   "execution_count": 43,
   "metadata": {},
   "outputs": [
    {
     "name": "stdout",
     "output_type": "stream",
     "text": [
      "17\n"
     ]
    }
   ],
   "source": [
    "m = 2018\n",
    "i = 2\n",
    "\n",
    "while fib(i)<=m:\n",
    "    #ここにプログラムを書く\n",
    "    fib(i)\n",
    "    i = i + 1\n",
    "print(i-1)"
   ]
  },
  {
   "cell_type": "markdown",
   "metadata": {},
   "source": [
    "他の書き方もやってみましょう。"
   ]
  }
 ],
 "metadata": {
  "kernelspec": {
   "display_name": "Python 3",
   "language": "python",
   "name": "python3"
  },
  "language_info": {
   "codemirror_mode": {
    "name": "ipython",
    "version": 3
   },
   "file_extension": ".py",
   "mimetype": "text/x-python",
   "name": "python",
   "nbconvert_exporter": "python",
   "pygments_lexer": "ipython3",
   "version": "3.7.0"
  }
 },
 "nbformat": 4,
 "nbformat_minor": 2
}
